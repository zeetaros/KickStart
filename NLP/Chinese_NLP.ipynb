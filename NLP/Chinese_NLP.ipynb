{
 "cells": [
  {
   "cell_type": "markdown",
   "metadata": {
    "toc": true
   },
   "source": [
    "<h1>Table of Contents<span class=\"tocSkip\"></span></h1>\n",
    "<div class=\"toc\"><ul class=\"toc-item\"><li><span><a href=\"#NLP-on-Chinese\" data-toc-modified-id=\"NLP-on-Chinese-1\"><span class=\"toc-item-num\">1&nbsp;&nbsp;</span>NLP on Chinese</a></span></li></ul></div>"
   ]
  },
  {
   "cell_type": "markdown",
   "metadata": {},
   "source": [
    "# NLP on Chinese"
   ]
  },
  {
   "cell_type": "code",
   "execution_count": 3,
   "metadata": {},
   "outputs": [
    {
     "name": "stderr",
     "output_type": "stream",
     "text": [
      "Installing paddle-tiny, please wait a minute......\n",
      "Paddle enabled successfully......\n"
     ]
    }
   ],
   "source": [
    "import jieba as jb\n",
    "import jieba.posseg as pseg\n",
    "\n",
    "jb.enable_paddle()"
   ]
  },
  {
   "cell_type": "code",
   "execution_count": 4,
   "metadata": {},
   "outputs": [],
   "source": [
    "sentences = [\"我今天去医院看到了一只小狗狗，我们一起收养好不好？\",\n",
    "             \"我明儿不吃饭了，我去把你经理打一顿！\",\n",
    "             \"我刚吃药的时候看窗外，你猜我看到了啥？\",\n",
    "             \"刚才不小心吧咖啡打翻了，溅到你的衣服上了，怎么办？\",\n",
    "            ]"
   ]
  },
  {
   "cell_type": "code",
   "execution_count": 22,
   "metadata": {},
   "outputs": [
    {
     "name": "stdout",
     "output_type": "stream",
     "text": [
      "今天\n",
      "去\n",
      "医院\n",
      "看到\n",
      "了\n",
      "一只\n",
      "小狗\n",
      "小狗狗\n",
      "狗狗\n",
      "，\n",
      "我们\n",
      "一起\n",
      "收养\n",
      "好不好\n",
      "不好\n",
      "？\n"
     ]
    }
   ],
   "source": [
    "seg_list = [jb.cut(sen, cut_all=True) for sen in sentences]\n",
    "\n",
    "seg1 = seg_list[0]\n",
    "for word in seg1:\n",
    "    print(word)"
   ]
  },
  {
   "cell_type": "code",
   "execution_count": 29,
   "metadata": {},
   "outputs": [
    {
     "name": "stdout",
     "output_type": "stream",
     "text": [
      "我 r\n",
      "今天 t\n",
      "去 v\n",
      "医院 n\n",
      "看到 v\n",
      "了 ul\n",
      "一只 m\n",
      "小狗狗 nr\n",
      "， x\n",
      "我们 r\n",
      "一起 m\n",
      "收养 v\n",
      "好不好 l\n",
      "？ x\n"
     ]
    }
   ],
   "source": [
    "for w in pseg.cut(sentences[0]):\n",
    "    print(w.word, w.flag)"
   ]
  },
  {
   "cell_type": "code",
   "execution_count": 30,
   "metadata": {},
   "outputs": [
    {
     "name": "stdout",
     "output_type": "stream",
     "text": [
      "我 r\n",
      "明儿 t\n",
      "不 d\n",
      "吃饭 v\n",
      "了 ul\n",
      "， x\n",
      "我 r\n",
      "去 v\n",
      "把 p\n",
      "你 r\n",
      "经理 n\n",
      "打 v\n",
      "一顿 m\n",
      "！ x\n"
     ]
    }
   ],
   "source": [
    "for w in pseg.cut(sentences[1]):\n",
    "    print(w.word, w.flag)"
   ]
  },
  {
   "cell_type": "code",
   "execution_count": null,
   "metadata": {},
   "outputs": [],
   "source": []
  }
 ],
 "metadata": {
  "kernelspec": {
   "display_name": "Python 3",
   "language": "python",
   "name": "python3"
  },
  "language_info": {
   "codemirror_mode": {
    "name": "ipython",
    "version": 3
   },
   "file_extension": ".py",
   "mimetype": "text/x-python",
   "name": "python",
   "nbconvert_exporter": "python",
   "pygments_lexer": "ipython3",
   "version": "3.6.7"
  },
  "toc": {
   "base_numbering": 1,
   "nav_menu": {},
   "number_sections": true,
   "sideBar": true,
   "skip_h1_title": false,
   "title_cell": "Table of Contents",
   "title_sidebar": "Contents",
   "toc_cell": true,
   "toc_position": {},
   "toc_section_display": true,
   "toc_window_display": true
  },
  "varInspector": {
   "cols": {
    "lenName": 16,
    "lenType": 16,
    "lenVar": 40
   },
   "kernels_config": {
    "python": {
     "delete_cmd_postfix": "",
     "delete_cmd_prefix": "del ",
     "library": "var_list.py",
     "varRefreshCmd": "print(var_dic_list())"
    },
    "r": {
     "delete_cmd_postfix": ") ",
     "delete_cmd_prefix": "rm(",
     "library": "var_list.r",
     "varRefreshCmd": "cat(var_dic_list()) "
    }
   },
   "types_to_exclude": [
    "module",
    "function",
    "builtin_function_or_method",
    "instance",
    "_Feature"
   ],
   "window_display": false
  }
 },
 "nbformat": 4,
 "nbformat_minor": 2
}
