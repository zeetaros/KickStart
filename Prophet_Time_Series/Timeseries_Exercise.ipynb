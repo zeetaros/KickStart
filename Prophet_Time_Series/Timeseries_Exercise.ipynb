{
 "cells": [
  {
   "cell_type": "markdown",
   "metadata": {
    "toc": true
   },
   "source": [
    "<h1>Table of Contents<span class=\"tocSkip\"></span></h1>\n",
    "<div class=\"toc\"><ul class=\"toc-item\"><li><span><a href=\"#Import-Dataset\" data-toc-modified-id=\"Import-Dataset-1\"><span class=\"toc-item-num\">1&nbsp;&nbsp;</span>Import Dataset</a></span></li><li><span><a href=\"#Exercise-1\" data-toc-modified-id=\"Exercise-1-2\"><span class=\"toc-item-num\">2&nbsp;&nbsp;</span>Exercise 1</a></span></li><li><span><a href=\"#Exercise-2\" data-toc-modified-id=\"Exercise-2-3\"><span class=\"toc-item-num\">3&nbsp;&nbsp;</span>Exercise 2</a></span></li><li><span><a href=\"#Exercise-3\" data-toc-modified-id=\"Exercise-3-4\"><span class=\"toc-item-num\">4&nbsp;&nbsp;</span>Exercise 3</a></span></li><li><span><a href=\"#Exercise-4\" data-toc-modified-id=\"Exercise-4-5\"><span class=\"toc-item-num\">5&nbsp;&nbsp;</span>Exercise 4</a></span></li><li><span><a href=\"#Exercise-5\" data-toc-modified-id=\"Exercise-5-6\"><span class=\"toc-item-num\">6&nbsp;&nbsp;</span>Exercise 5</a></span></li><li><span><a href=\"#Exercise-6\" data-toc-modified-id=\"Exercise-6-7\"><span class=\"toc-item-num\">7&nbsp;&nbsp;</span>Exercise 6</a></span></li><li><span><a href=\"#Exercise-7\" data-toc-modified-id=\"Exercise-7-8\"><span class=\"toc-item-num\">8&nbsp;&nbsp;</span>Exercise 7</a></span></li><li><span><a href=\"#Exercise-8\" data-toc-modified-id=\"Exercise-8-9\"><span class=\"toc-item-num\">9&nbsp;&nbsp;</span>Exercise 8</a></span></li><li><span><a href=\"#Exercise-9\" data-toc-modified-id=\"Exercise-9-10\"><span class=\"toc-item-num\">10&nbsp;&nbsp;</span>Exercise 9</a></span></li><li><span><a href=\"#Exercise-10\" data-toc-modified-id=\"Exercise-10-11\"><span class=\"toc-item-num\">11&nbsp;&nbsp;</span>Exercise 10</a></span></li></ul></div>"
   ]
  },
  {
   "cell_type": "code",
   "execution_count": 2,
   "metadata": {},
   "outputs": [],
   "source": [
    "import os\n",
    "import plotly\n",
    "import matplotlib\n",
    "import pandas as pd\n",
    "import fbprophet as ph\n",
    "import warnings\n",
    "%matplotlib inline\n",
    "import matplotlib.pyplot as plt\n",
    "from fbprophet.plot import plot_plotly, plot_components_plotly, add_changepoints_to_plot\n",
    "from pandas.plotting import autocorrelation_plot\n",
    "\n",
    "\n",
    "from math import floor\n",
    "from statsmodels.tsa.arima.model import ARIMA\n",
    "from statsmodels.graphics.tsaplots import plot_acf, plot_pacf\n",
    "from tqdm.notebook import tqdm\n",
    "\n",
    "matplotlib.rcParams['figure.figsize'] = (12, 6)\n",
    "axis_formatter = matplotlib.dates.DateFormatter('%Y-%m-%d %Hh') \n",
    "warnings.filterwarnings(\"ignore\")\n",
    "pd.set_option('display.max_columns', None)\n",
    "pd.set_option('display.max_rows', None)"
   ]
  },
  {
   "cell_type": "markdown",
   "metadata": {},
   "source": [
    "#### Import Dataset\n",
    "**Source**  \n",
    "Hourly energy demand generation and weather  \n",
    "https://www.kaggle.com/nicholasjhana/energy-consumption-generation-prices-and-weather  \n",
    "  \n",
    "**Content**  \n",
    "This dataset contains 4 years of electrical consumption, generation, pricing, and weather data for Spain. Consumption and generation data was retrieved from ENTSOE a public portal for Transmission Service Operator (TSO) data. Settlement prices were obtained from the Spanish TSO Red Electric España. Weather data was purchased as part of a personal project from the Open Weather API for the 5 largest cities in Spain and made public here.  \n",
    "  \n",
    "**Inspirational Problems to Solve**  \n",
    "- What weather measurements, and cities influence most the electrical demand, prices, generation capacity?\n",
    "- Forecast 24 hours in advance?\n",
    "- Predict electrical price by time of day?\n",
    "- Forecast intraday price or electrical demand hour-by-hour."
   ]
  },
  {
   "cell_type": "markdown",
   "metadata": {},
   "source": [
    "#### Exercise 1\n",
    "\n",
    "Use pandas to import the energy dataset. Give your dataframe the name `hourly_energy_df`"
   ]
  },
  {
   "cell_type": "markdown",
   "metadata": {},
   "source": [
    "**Run the following command to proceed to the next exercise**\n",
    "\n",
    "Use the following command to convert the time column into datetime and remove timezone\n",
    "- hourly_energy_df['time'] = pd.to_datetime(hourly_energy_df['time'], utc=True)\n",
    "- hourly_energy_df['time'] = hourly_energy_df['time'].dt.tz_localize(None)\n",
    "- hourly_energy_df.sort_values('time', inplace=True)"
   ]
  },
  {
   "cell_type": "markdown",
   "metadata": {},
   "source": [
    "#### Exercise 2\n",
    "\n",
    "Use pandas to check the number of missing values in the features. How many missing values are there in 'generation hydro pumped storage aggregated'\n",
    "column? What about 'generation fossil coal-derived gas'?"
   ]
  },
  {
   "cell_type": "markdown",
   "metadata": {},
   "source": [
    "#### Exercise 3\n",
    "\n",
    "Use pandas to drop columns that are completely empty."
   ]
  },
  {
   "cell_type": "markdown",
   "metadata": {},
   "source": [
    "#### Exercise 4\n",
    "\n",
    "Use pandas to fill observations that have missing values."
   ]
  },
  {
   "cell_type": "markdown",
   "metadata": {},
   "source": [
    "**run the following command to proceed to the next exercise**  \n",
    "\n",
    "Use the following command to convert the hourly data to daily data\n",
    "- daily_energy_df = hourly_energy_df.groupby([hourly_energy_df['time'].dt.date]).mean().reset_index()\n"
   ]
  },
  {
   "cell_type": "markdown",
   "metadata": {},
   "source": [
    "#### Exercise 5\n",
    "\n",
    "Visualise the 'price actual' and 'total load actual' columns. Which one is more stationary?"
   ]
  },
  {
   "cell_type": "markdown",
   "metadata": {},
   "source": [
    "#### Exercise 6\n",
    "\n",
    "Visualise the autocorrelation plot for 'price actual' column. What's the best p value for the ARIMA model?"
   ]
  },
  {
   "cell_type": "markdown",
   "metadata": {},
   "source": [
    "#### Exercise 7\n",
    "\n",
    "Visualise the partial autocorrelation plot for 'price actual' column. What's the best q value for the ARIMA model?"
   ]
  },
  {
   "cell_type": "markdown",
   "metadata": {},
   "source": [
    "#### Exercise 8\n",
    "\n",
    "Apply differencing to 'price actual' column. What's the best d value for the ARIMA model?"
   ]
  },
  {
   "cell_type": "markdown",
   "metadata": {},
   "source": [
    "#### Exercise 9\n",
    "\n",
    "Divide the daily dataset into train and test. Take 3/5 of the dataset as train and the rest as test dataset."
   ]
  },
  {
   "cell_type": "markdown",
   "metadata": {},
   "source": [
    "#### Exercise 10\n",
    "\n",
    "Train the ARIMA model and use it to predict on the test data. We only want to predict 'price actual' column."
   ]
  },
  {
   "cell_type": "code",
   "execution_count": null,
   "metadata": {},
   "outputs": [],
   "source": []
  }
 ],
 "metadata": {
  "kernelspec": {
   "display_name": "Python 3",
   "language": "python",
   "name": "python3"
  },
  "language_info": {
   "codemirror_mode": {
    "name": "ipython",
    "version": 3
   },
   "file_extension": ".py",
   "mimetype": "text/x-python",
   "name": "python",
   "nbconvert_exporter": "python",
   "pygments_lexer": "ipython3",
   "version": "3.8.6"
  },
  "toc": {
   "base_numbering": 1,
   "nav_menu": {},
   "number_sections": true,
   "sideBar": true,
   "skip_h1_title": false,
   "title_cell": "Table of Contents",
   "title_sidebar": "Contents",
   "toc_cell": true,
   "toc_position": {},
   "toc_section_display": true,
   "toc_window_display": true
  },
  "varInspector": {
   "cols": {
    "lenName": 16,
    "lenType": 16,
    "lenVar": 40
   },
   "kernels_config": {
    "python": {
     "delete_cmd_postfix": "",
     "delete_cmd_prefix": "del ",
     "library": "var_list.py",
     "varRefreshCmd": "print(var_dic_list())"
    },
    "r": {
     "delete_cmd_postfix": ") ",
     "delete_cmd_prefix": "rm(",
     "library": "var_list.r",
     "varRefreshCmd": "cat(var_dic_list()) "
    }
   },
   "types_to_exclude": [
    "module",
    "function",
    "builtin_function_or_method",
    "instance",
    "_Feature"
   ],
   "window_display": false
  }
 },
 "nbformat": 4,
 "nbformat_minor": 2
}
