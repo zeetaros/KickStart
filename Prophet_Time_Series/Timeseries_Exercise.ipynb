{
 "cells": [
  {
   "cell_type": "code",
   "execution_count": 2,
   "metadata": {},
   "outputs": [],
   "source": [
    "import os\n",
    "import plotly\n",
    "import matplotlib\n",
    "import pandas as pd\n",
    "import fbprophet as ph\n",
    "import warnings\n",
    "%matplotlib inline\n",
    "import matplotlib.pyplot as plt\n",
    "from fbprophet.plot import plot_plotly, plot_components_plotly, add_changepoints_to_plot\n",
    "from pandas.plotting import autocorrelation_plot\n",
    "\n",
    "\n",
    "from math import floor\n",
    "from statsmodels.tsa.arima.model import ARIMA\n",
    "from statsmodels.graphics.tsaplots import plot_acf, plot_pacf\n",
    "from tqdm.notebook import tqdm\n",
    "\n",
    "matplotlib.rcParams['figure.figsize'] = (12, 6)\n",
    "axis_formatter = matplotlib.dates.DateFormatter('%Y-%m-%d %Hh') \n",
    "warnings.filterwarnings(\"ignore\")\n",
    "pd.set_option('display.max_columns', None)\n",
    "pd.set_option('display.max_rows', None)"
   ]
  },
  {
   "cell_type": "markdown",
   "metadata": {},
   "source": [
    "#### Exercise 1\n",
    "\n",
    "Use pandas to import the energy dataset."
   ]
  },
  {
   "cell_type": "markdown",
   "metadata": {},
   "source": [
    "#### run the following command to proceed to the next exercise\n",
    "\n",
    "Use the following command to convert the time column into datetime and remove timezone\n",
    "- hourly_energy_df['time'] = pd.to_datetime(hourly_energy_df['time'], utc=True)\n",
    "- hourly_energy_df['time'] = hourly_energy_df['time'].dt.tz_localize(None)\n",
    "- hourly_energy_df.sort_values('time', inplace=True)"
   ]
  },
  {
   "cell_type": "markdown",
   "metadata": {},
   "source": [
    "#### Exercise 2\n",
    "\n",
    "Use pandas to check the number of missing values in the features. How many missing values are there in 'generation hydro pumped storage aggregated'\n",
    "column? What about 'generation fossil coal-derived gas'?"
   ]
  },
  {
   "cell_type": "markdown",
   "metadata": {},
   "source": [
    "#### Exercise 3\n",
    "\n",
    "Use pandas to drop columns that are completely empty."
   ]
  },
  {
   "cell_type": "markdown",
   "metadata": {},
   "source": [
    "#### Exercise 4 [change to fill in empty values]\n",
    "\n",
    "Use pandas to drop observations that have missing values."
   ]
  },
  {
   "cell_type": "markdown",
   "metadata": {},
   "source": [
    "#### run the following command to proceed to the next exercise\n",
    "\n",
    "Use the following command to convert the hourly data to daily data\n",
    "- daily_energy_df = hourly_energy_df.groupby([hourly_energy_df['time'].dt.date]).mean().reset_index()\n"
   ]
  },
  {
   "cell_type": "markdown",
   "metadata": {},
   "source": [
    "#### Exercise 5\n",
    "\n",
    "Visualise the 'price actual' and 'total load actual' columns. Which one is more stationary?"
   ]
  },
  {
   "cell_type": "markdown",
   "metadata": {},
   "source": [
    "#### Exercise 6\n",
    "\n",
    "Visualise the autocorrelation plot for 'price actual' column. What's the best p value for the ARIMA model?"
   ]
  },
  {
   "cell_type": "markdown",
   "metadata": {},
   "source": [
    "#### Exercise 7\n",
    "\n",
    "Visualise the partial autocorrelation plot for 'price actual' column. What's the best q value for the ARIMA model?"
   ]
  },
  {
   "cell_type": "markdown",
   "metadata": {},
   "source": [
    "#### Exercise 8\n",
    "\n",
    "Apply differencing to 'price actual' column. What's the best d value for the ARIMA model?"
   ]
  },
  {
   "cell_type": "markdown",
   "metadata": {},
   "source": [
    "#### Exercise 9\n",
    "\n",
    "Divide the daily dataset into train and test. Take 3/5 of the dataset as train and the rest as test dataset."
   ]
  },
  {
   "cell_type": "markdown",
   "metadata": {},
   "source": [
    "#### Exercise 10\n",
    "\n",
    "Train the ARIMA model and use it to predict on the test data. We only want to predict 'price actual' column."
   ]
  },
  {
   "cell_type": "code",
   "execution_count": null,
   "metadata": {},
   "outputs": [],
   "source": []
  }
 ],
 "metadata": {
  "kernelspec": {
   "display_name": "grad_train_env",
   "language": "python",
   "name": "grad_train_env"
  },
  "language_info": {
   "codemirror_mode": {
    "name": "ipython",
    "version": 3
   },
   "file_extension": ".py",
   "mimetype": "text/x-python",
   "name": "python",
   "nbconvert_exporter": "python",
   "pygments_lexer": "ipython3",
   "version": "3.7.4"
  }
 },
 "nbformat": 4,
 "nbformat_minor": 2
}
